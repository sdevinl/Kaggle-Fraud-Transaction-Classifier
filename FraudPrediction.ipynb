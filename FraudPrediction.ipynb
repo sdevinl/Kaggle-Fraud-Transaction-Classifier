{
 "cells": [
  {
   "cell_type": "code",
   "execution_count": 7,
   "source": [
    "import pandas as pd\r\n",
    "import numpy as np \r\n",
    "import os"
   ],
   "outputs": [],
   "metadata": {}
  },
  {
   "cell_type": "code",
   "execution_count": 8,
   "source": [
    "# Move to directory\r\n",
    "\r\n",
    "os.chdir(r'C:\\Users\\Steven\\Desktop')\r\n",
    "os.getcwd()"
   ],
   "outputs": [
    {
     "output_type": "execute_result",
     "data": {
      "text/plain": [
       "'C:\\\\Users\\\\Steven\\\\Desktop'"
      ]
     },
     "metadata": {},
     "execution_count": 8
    }
   ],
   "metadata": {}
  },
  {
   "cell_type": "code",
   "execution_count": 9,
   "source": [
    "# Read the csv file\r\n",
    "\r\n",
    "raw_data = pd.read_csv('synthetic_financial_data.csv')"
   ],
   "outputs": [],
   "metadata": {}
  },
  {
   "cell_type": "code",
   "execution_count": 10,
   "source": [
    "# Copy the data, so we don't have to read csv file again\r\n",
    "\r\n",
    "data = raw_data.copy()"
   ],
   "outputs": [],
   "metadata": {}
  },
  {
   "cell_type": "code",
   "execution_count": 11,
   "source": [
    "# Examine the data\r\n",
    "\r\n",
    "data.head()"
   ],
   "outputs": [
    {
     "output_type": "execute_result",
     "data": {
      "text/plain": [
       "   step      type    amount     nameOrig  oldbalanceOrg  newbalanceOrig  \\\n",
       "0     1   PAYMENT   9839.64  C1231006815       170136.0       160296.36   \n",
       "1     1   PAYMENT   1864.28  C1666544295        21249.0        19384.72   \n",
       "2     1  TRANSFER    181.00  C1305486145          181.0            0.00   \n",
       "3     1  CASH_OUT    181.00   C840083671          181.0            0.00   \n",
       "4     1   PAYMENT  11668.14  C2048537720        41554.0        29885.86   \n",
       "\n",
       "      nameDest  oldbalanceDest  newbalanceDest  isFraud  isFlaggedFraud  \n",
       "0  M1979787155             0.0             0.0        0               0  \n",
       "1  M2044282225             0.0             0.0        0               0  \n",
       "2   C553264065             0.0             0.0        1               0  \n",
       "3    C38997010         21182.0             0.0        1               0  \n",
       "4  M1230701703             0.0             0.0        0               0  "
      ],
      "text/html": [
       "<div>\n",
       "<style scoped>\n",
       "    .dataframe tbody tr th:only-of-type {\n",
       "        vertical-align: middle;\n",
       "    }\n",
       "\n",
       "    .dataframe tbody tr th {\n",
       "        vertical-align: top;\n",
       "    }\n",
       "\n",
       "    .dataframe thead th {\n",
       "        text-align: right;\n",
       "    }\n",
       "</style>\n",
       "<table border=\"1\" class=\"dataframe\">\n",
       "  <thead>\n",
       "    <tr style=\"text-align: right;\">\n",
       "      <th></th>\n",
       "      <th>step</th>\n",
       "      <th>type</th>\n",
       "      <th>amount</th>\n",
       "      <th>nameOrig</th>\n",
       "      <th>oldbalanceOrg</th>\n",
       "      <th>newbalanceOrig</th>\n",
       "      <th>nameDest</th>\n",
       "      <th>oldbalanceDest</th>\n",
       "      <th>newbalanceDest</th>\n",
       "      <th>isFraud</th>\n",
       "      <th>isFlaggedFraud</th>\n",
       "    </tr>\n",
       "  </thead>\n",
       "  <tbody>\n",
       "    <tr>\n",
       "      <th>0</th>\n",
       "      <td>1</td>\n",
       "      <td>PAYMENT</td>\n",
       "      <td>9839.64</td>\n",
       "      <td>C1231006815</td>\n",
       "      <td>170136.0</td>\n",
       "      <td>160296.36</td>\n",
       "      <td>M1979787155</td>\n",
       "      <td>0.0</td>\n",
       "      <td>0.0</td>\n",
       "      <td>0</td>\n",
       "      <td>0</td>\n",
       "    </tr>\n",
       "    <tr>\n",
       "      <th>1</th>\n",
       "      <td>1</td>\n",
       "      <td>PAYMENT</td>\n",
       "      <td>1864.28</td>\n",
       "      <td>C1666544295</td>\n",
       "      <td>21249.0</td>\n",
       "      <td>19384.72</td>\n",
       "      <td>M2044282225</td>\n",
       "      <td>0.0</td>\n",
       "      <td>0.0</td>\n",
       "      <td>0</td>\n",
       "      <td>0</td>\n",
       "    </tr>\n",
       "    <tr>\n",
       "      <th>2</th>\n",
       "      <td>1</td>\n",
       "      <td>TRANSFER</td>\n",
       "      <td>181.00</td>\n",
       "      <td>C1305486145</td>\n",
       "      <td>181.0</td>\n",
       "      <td>0.00</td>\n",
       "      <td>C553264065</td>\n",
       "      <td>0.0</td>\n",
       "      <td>0.0</td>\n",
       "      <td>1</td>\n",
       "      <td>0</td>\n",
       "    </tr>\n",
       "    <tr>\n",
       "      <th>3</th>\n",
       "      <td>1</td>\n",
       "      <td>CASH_OUT</td>\n",
       "      <td>181.00</td>\n",
       "      <td>C840083671</td>\n",
       "      <td>181.0</td>\n",
       "      <td>0.00</td>\n",
       "      <td>C38997010</td>\n",
       "      <td>21182.0</td>\n",
       "      <td>0.0</td>\n",
       "      <td>1</td>\n",
       "      <td>0</td>\n",
       "    </tr>\n",
       "    <tr>\n",
       "      <th>4</th>\n",
       "      <td>1</td>\n",
       "      <td>PAYMENT</td>\n",
       "      <td>11668.14</td>\n",
       "      <td>C2048537720</td>\n",
       "      <td>41554.0</td>\n",
       "      <td>29885.86</td>\n",
       "      <td>M1230701703</td>\n",
       "      <td>0.0</td>\n",
       "      <td>0.0</td>\n",
       "      <td>0</td>\n",
       "      <td>0</td>\n",
       "    </tr>\n",
       "  </tbody>\n",
       "</table>\n",
       "</div>"
      ]
     },
     "metadata": {},
     "execution_count": 11
    }
   ],
   "metadata": {}
  },
  {
   "cell_type": "code",
   "execution_count": 12,
   "source": [
    "# typo - column 'oldbalanceOrg' is supposed to be 'oldbalanceOrig'\r\n",
    "data = data.rename(columns={'oldbalanceOrg': 'oldbalanceOrig'})"
   ],
   "outputs": [],
   "metadata": {}
  },
  {
   "cell_type": "code",
   "execution_count": 13,
   "source": [
    "data.shape"
   ],
   "outputs": [
    {
     "output_type": "execute_result",
     "data": {
      "text/plain": [
       "(6362620, 11)"
      ]
     },
     "metadata": {},
     "execution_count": 13
    }
   ],
   "metadata": {}
  },
  {
   "cell_type": "code",
   "execution_count": 14,
   "source": [
    "# No NaN values is any column\r\n",
    "\r\n",
    "print('Number NaNs:')\r\n",
    "data.isna().sum()"
   ],
   "outputs": [
    {
     "output_type": "stream",
     "name": "stdout",
     "text": [
      "Number NaNs:\n"
     ]
    },
    {
     "output_type": "execute_result",
     "data": {
      "text/plain": [
       "step              0\n",
       "type              0\n",
       "amount            0\n",
       "nameOrig          0\n",
       "oldbalanceOrig    0\n",
       "newbalanceOrig    0\n",
       "nameDest          0\n",
       "oldbalanceDest    0\n",
       "newbalanceDest    0\n",
       "isFraud           0\n",
       "isFlaggedFraud    0\n",
       "dtype: int64"
      ]
     },
     "metadata": {},
     "execution_count": 14
    }
   ],
   "metadata": {}
  },
  {
   "cell_type": "code",
   "execution_count": 15,
   "source": [
    "# Check data for number of unique values in each column\r\n",
    "\r\n",
    "for col in data.columns:\r\n",
    "    print(col, len(pd.unique(data[col])))"
   ],
   "outputs": [
    {
     "output_type": "stream",
     "name": "stdout",
     "text": [
      "step 743\n",
      "type 5\n",
      "amount 5316900\n",
      "nameOrig 6353307\n",
      "oldbalanceOrig 1845844\n",
      "newbalanceOrig 2682586\n",
      "nameDest 2722362\n",
      "oldbalanceDest 3614697\n",
      "newbalanceDest 3555499\n",
      "isFraud 2\n",
      "isFlaggedFraud 2\n"
     ]
    }
   ],
   "metadata": {}
  },
  {
   "cell_type": "code",
   "execution_count": 16,
   "source": [
    "import seaborn as sns\r\n",
    "\r\n",
    "# Plot 1: See how fraud transactions compare across transaction types\r\n",
    "\r\n",
    "plot1_data = data[['type', 'isFraud']].groupby('type').sum()#.plot.bar(rot=0, title='Number of Fraud Transactions per Type', ylabel='Number of Transactions', xlabel='Type', figsize=(15,5))\r\n",
    "plot1_data = plot1_data.reset_index()\r\n",
    "\r\n",
    "sns.set_style('darkgrid')\r\n",
    "ax = sns.barplot(x=\"type\", y=\"isFraud\", data=plot1_data)\r\n",
    "ax.set_title('Number Frauds per Type')\r\n",
    "ax.set_ylabel('Number Frauds')\r\n",
    "ax.set_xlabel('Type')\r\n"
   ],
   "outputs": [
    {
     "output_type": "execute_result",
     "data": {
      "text/plain": [
       "Text(0.5, 0, 'Type')"
      ]
     },
     "metadata": {},
     "execution_count": 16
    },
    {
     "output_type": "display_data",
     "data": {
      "text/plain": [
       "<Figure size 432x288 with 1 Axes>"
      ],
      "image/png": "[encoded data removed]"
     },
     "metadata": {}
    }
   ],
   "metadata": {}
  },
  {
   "cell_type": "code",
   "execution_count": 17,
   "source": [
    "# Should note that only transaction types CASH_OUT and TRANSFER contain fraud transactions in our data "
   ],
   "outputs": [],
   "metadata": {}
  },
  {
   "cell_type": "code",
   "execution_count": 18,
   "source": [
    "# Label Encode, it is better to one-hot encode, but let's see how well the model performs first\r\n",
    "\r\n",
    "data['type'] = data['type'].replace(data['type'].unique(), [0, 1, 2, 3, 4])\r\n",
    "data"
   ],
   "outputs": [
    {
     "output_type": "execute_result",
     "data": {
      "text/plain": [
       "         step  type      amount     nameOrig  oldbalanceOrig  newbalanceOrig  \\\n",
       "0           1     0     9839.64  C1231006815       170136.00       160296.36   \n",
       "1           1     0     1864.28  C1666544295        21249.00        19384.72   \n",
       "2           1     1      181.00  C1305486145          181.00            0.00   \n",
       "3           1     2      181.00   C840083671          181.00            0.00   \n",
       "4           1     0    11668.14  C2048537720        41554.00        29885.86   \n",
       "...       ...   ...         ...          ...             ...             ...   \n",
       "6362615   743     2   339682.13   C786484425       339682.13            0.00   \n",
       "6362616   743     1  6311409.28  C1529008245      6311409.28            0.00   \n",
       "6362617   743     2  6311409.28  C1162922333      6311409.28            0.00   \n",
       "6362618   743     1   850002.52  C1685995037       850002.52            0.00   \n",
       "6362619   743     2   850002.52  C1280323807       850002.52            0.00   \n",
       "\n",
       "            nameDest  oldbalanceDest  newbalanceDest  isFraud  isFlaggedFraud  \n",
       "0        M1979787155            0.00            0.00        0               0  \n",
       "1        M2044282225            0.00            0.00        0               0  \n",
       "2         C553264065            0.00            0.00        1               0  \n",
       "3          C38997010        21182.00            0.00        1               0  \n",
       "4        M1230701703            0.00            0.00        0               0  \n",
       "...              ...             ...             ...      ...             ...  \n",
       "6362615   C776919290            0.00       339682.13        1               0  \n",
       "6362616  C1881841831            0.00            0.00        1               0  \n",
       "6362617  C1365125890        68488.84      6379898.11        1               0  \n",
       "6362618  C2080388513            0.00            0.00        1               0  \n",
       "6362619   C873221189      6510099.11      7360101.63        1               0  \n",
       "\n",
       "[6362620 rows x 11 columns]"
      ],
      "text/html": [
       "<div>\n",
       "<style scoped>\n",
       "    .dataframe tbody tr th:only-of-type {\n",
       "        vertical-align: middle;\n",
       "    }\n",
       "\n",
       "    .dataframe tbody tr th {\n",
       "        vertical-align: top;\n",
       "    }\n",
       "\n",
       "    .dataframe thead th {\n",
       "        text-align: right;\n",
       "    }\n",
       "</style>\n",
       "<table border=\"1\" class=\"dataframe\">\n",
       "  <thead>\n",
       "    <tr style=\"text-align: right;\">\n",
       "      <th></th>\n",
       "      <th>step</th>\n",
       "      <th>type</th>\n",
       "      <th>amount</th>\n",
       "      <th>nameOrig</th>\n",
       "      <th>oldbalanceOrig</th>\n",
       "      <th>newbalanceOrig</th>\n",
       "      <th>nameDest</th>\n",
       "      <th>oldbalanceDest</th>\n",
       "      <th>newbalanceDest</th>\n",
       "      <th>isFraud</th>\n",
       "      <th>isFlaggedFraud</th>\n",
       "    </tr>\n",
       "  </thead>\n",
       "  <tbody>\n",
       "    <tr>\n",
       "      <th>0</th>\n",
       "      <td>1</td>\n",
       "      <td>0</td>\n",
       "      <td>9839.64</td>\n",
       "      <td>C1231006815</td>\n",
       "      <td>170136.00</td>\n",
       "      <td>160296.36</td>\n",
       "      <td>M1979787155</td>\n",
       "      <td>0.00</td>\n",
       "      <td>0.00</td>\n",
       "      <td>0</td>\n",
       "      <td>0</td>\n",
       "    </tr>\n",
       "    <tr>\n",
       "      <th>1</th>\n",
       "      <td>1</td>\n",
       "      <td>0</td>\n",
       "      <td>1864.28</td>\n",
       "      <td>C1666544295</td>\n",
       "      <td>21249.00</td>\n",
       "      <td>19384.72</td>\n",
       "      <td>M2044282225</td>\n",
       "      <td>0.00</td>\n",
       "      <td>0.00</td>\n",
       "      <td>0</td>\n",
       "      <td>0</td>\n",
       "    </tr>\n",
       "    <tr>\n",
       "      <th>2</th>\n",
       "      <td>1</td>\n",
       "      <td>1</td>\n",
       "      <td>181.00</td>\n",
       "      <td>C1305486145</td>\n",
       "      <td>181.00</td>\n",
       "      <td>0.00</td>\n",
       "      <td>C553264065</td>\n",
       "      <td>0.00</td>\n",
       "      <td>0.00</td>\n",
       "      <td>1</td>\n",
       "      <td>0</td>\n",
       "    </tr>\n",
       "    <tr>\n",
       "      <th>3</th>\n",
       "      <td>1</td>\n",
       "      <td>2</td>\n",
       "      <td>181.00</td>\n",
       "      <td>C840083671</td>\n",
       "      <td>181.00</td>\n",
       "      <td>0.00</td>\n",
       "      <td>C38997010</td>\n",
       "      <td>21182.00</td>\n",
       "      <td>0.00</td>\n",
       "      <td>1</td>\n",
       "      <td>0</td>\n",
       "    </tr>\n",
       "    <tr>\n",
       "      <th>4</th>\n",
       "      <td>1</td>\n",
       "      <td>0</td>\n",
       "      <td>11668.14</td>\n",
       "      <td>C2048537720</td>\n",
       "      <td>41554.00</td>\n",
       "      <td>29885.86</td>\n",
       "      <td>M1230701703</td>\n",
       "      <td>0.00</td>\n",
       "      <td>0.00</td>\n",
       "      <td>0</td>\n",
       "      <td>0</td>\n",
       "    </tr>\n",
       "    <tr>\n",
       "      <th>...</th>\n",
       "      <td>...</td>\n",
       "      <td>...</td>\n",
       "      <td>...</td>\n",
       "      <td>...</td>\n",
       "      <td>...</td>\n",
       "      <td>...</td>\n",
       "      <td>...</td>\n",
       "      <td>...</td>\n",
       "      <td>...</td>\n",
       "      <td>...</td>\n",
       "      <td>...</td>\n",
       "    </tr>\n",
       "    <tr>\n",
       "      <th>6362615</th>\n",
       "      <td>743</td>\n",
       "      <td>2</td>\n",
       "      <td>339682.13</td>\n",
       "      <td>C786484425</td>\n",
       "      <td>339682.13</td>\n",
       "      <td>0.00</td>\n",
       "      <td>C776919290</td>\n",
       "      <td>0.00</td>\n",
       "      <td>339682.13</td>\n",
       "      <td>1</td>\n",
       "      <td>0</td>\n",
       "    </tr>\n",
       "    <tr>\n",
       "      <th>6362616</th>\n",
       "      <td>743</td>\n",
       "      <td>1</td>\n",
       "      <td>6311409.28</td>\n",
       "      <td>C1529008245</td>\n",
       "      <td>6311409.28</td>\n",
       "      <td>0.00</td>\n",
       "      <td>C1881841831</td>\n",
       "      <td>0.00</td>\n",
       "      <td>0.00</td>\n",
       "      <td>1</td>\n",
       "      <td>0</td>\n",
       "    </tr>\n",
       "    <tr>\n",
       "      <th>6362617</th>\n",
       "      <td>743</td>\n",
       "      <td>2</td>\n",
       "      <td>6311409.28</td>\n",
       "      <td>C1162922333</td>\n",
       "      <td>6311409.28</td>\n",
       "      <td>0.00</td>\n",
       "      <td>C1365125890</td>\n",
       "      <td>68488.84</td>\n",
       "      <td>6379898.11</td>\n",
       "      <td>1</td>\n",
       "      <td>0</td>\n",
       "    </tr>\n",
       "    <tr>\n",
       "      <th>6362618</th>\n",
       "      <td>743</td>\n",
       "      <td>1</td>\n",
       "      <td>850002.52</td>\n",
       "      <td>C1685995037</td>\n",
       "      <td>850002.52</td>\n",
       "      <td>0.00</td>\n",
       "      <td>C2080388513</td>\n",
       "      <td>0.00</td>\n",
       "      <td>0.00</td>\n",
       "      <td>1</td>\n",
       "      <td>0</td>\n",
       "    </tr>\n",
       "    <tr>\n",
       "      <th>6362619</th>\n",
       "      <td>743</td>\n",
       "      <td>2</td>\n",
       "      <td>850002.52</td>\n",
       "      <td>C1280323807</td>\n",
       "      <td>850002.52</td>\n",
       "      <td>0.00</td>\n",
       "      <td>C873221189</td>\n",
       "      <td>6510099.11</td>\n",
       "      <td>7360101.63</td>\n",
       "      <td>1</td>\n",
       "      <td>0</td>\n",
       "    </tr>\n",
       "  </tbody>\n",
       "</table>\n",
       "<p>6362620 rows × 11 columns</p>\n",
       "</div>"
      ]
     },
     "metadata": {},
     "execution_count": 18
    }
   ],
   "metadata": {}
  },
  {
   "cell_type": "code",
   "execution_count": 19,
   "source": [
    "# Percentage of frauds \r\n",
    "\r\n",
    "potential_frauds = len(data)\r\n",
    "actual_frauds = (data['isFraud'] == 1).sum()\r\n",
    "percentage_frauds = actual_frauds/potential_frauds\r\n",
    "print('Percentage Frauds:', percentage_frauds)"
   ],
   "outputs": [
    {
     "output_type": "stream",
     "name": "stdout",
     "text": [
      "Percentage Frauds: 0.001290820448180152\n"
     ]
    }
   ],
   "metadata": {}
  },
  {
   "cell_type": "code",
   "execution_count": 20,
   "source": [
    "# 'nameOrig' and 'nameDest' are not helpful for the model, so will be dropped\r\n",
    "\r\n",
    "data = data.drop(columns=['nameOrig', 'nameDest'])"
   ],
   "outputs": [],
   "metadata": {}
  },
  {
   "cell_type": "code",
   "execution_count": 21,
   "source": [
    "# Feature correlation Plot\r\n",
    "\r\n",
    "corr_data = data.corr()#['isFraud']\r\n",
    "corr_data = corr_data.reset_index()\r\n",
    "corr_data = corr_data[corr_data['index'] != 'isFraud']\r\n",
    "corr_data = corr_data.sort_values('isFraud') \r\n",
    "\r\n",
    "sns.set_style('darkgrid')\r\n",
    "ax = sns.barplot(y='index', x='isFraud', data=corr_data)\r\n",
    "ax.set_title('Feature Correlation to Fraud Transactions')\r\n",
    "ax.set_ylabel('Features')\r\n",
    "ax.set_xlabel('Correlation')\r\n"
   ],
   "outputs": [
    {
     "output_type": "execute_result",
     "data": {
      "text/plain": [
       "Text(0.5, 0, 'Correlation')"
      ]
     },
     "metadata": {},
     "execution_count": 21
    },
    {
     "output_type": "display_data",
     "data": {
      "text/plain": [
       "<Figure size 432x288 with 1 Axes>"
      ],
      "image/png": "[encoded data removed]"
     },
     "metadata": {}
    }
   ],
   "metadata": {}
  },
  {
   "cell_type": "code",
   "execution_count": 22,
   "source": [
    "# Scatter plots of highest correlated features\r\n",
    "\r\n",
    "sns.set_style('darkgrid')\r\n",
    "#ax = sns.scatterplot(x='isFlaggedFraud', y='amount', hue='isFraud', data=data)"
   ],
   "outputs": [],
   "metadata": {}
  },
  {
   "cell_type": "code",
   "execution_count": 23,
   "source": [
    "# Prepare data split\r\n",
    "\r\n",
    "X = data.drop(columns='isFraud').to_numpy()\r\n",
    "y = data['isFraud'].to_numpy()"
   ],
   "outputs": [],
   "metadata": {}
  },
  {
   "cell_type": "code",
   "execution_count": 24,
   "source": [
    "# Dimensionality Reduction w/ PCA to get a better visualization of data\r\n",
    "from sklearn.decomposition import PCA\r\n",
    "\r\n",
    "pca = PCA(n_components=2)\r\n",
    "pca.fit(X, y)\r\n",
    "pca_data = pca.transform(X)\r\n",
    "\r\n",
    "pca_df = pd.DataFrame(columns =['x', 'y'], data=pca_data)\r\n",
    "pca_df['isFraud'] = y\r\n",
    "\r\n",
    "ax = sns.scatterplot(x='x', y='y', hue='isFraud', data=pca_df)"
   ],
   "outputs": [
    {
     "output_type": "display_data",
     "data": {
      "text/plain": [
       "<Figure size 432x288 with 1 Axes>"
      ],
      "image/png": "[encoded data removed]"
     },
     "metadata": {}
    }
   ],
   "metadata": {}
  },
  {
   "cell_type": "code",
   "execution_count": 25,
   "source": [
    "# K-Fold Cross Validation\r\n",
    "from sklearn.model_selection import KFold\r\n",
    "\r\n",
    "kf = KFold(3)"
   ],
   "outputs": [],
   "metadata": {}
  },
  {
   "cell_type": "code",
   "execution_count": 26,
   "source": [
    "# Sklearn ML Models\r\n",
    "from sklearn.ensemble import GradientBoostingClassifier\r\n",
    "from sklearn.linear_model import SGDClassifier\r\n",
    "from sklearn import svm\r\n",
    "from sklearn.discriminant_analysis import LinearDiscriminantAnalysis\r\n",
    "from sklearn.neighbors import KNeighborsClassifier\r\n",
    "from sklearn.naive_bayes import GaussianNB\r\n",
    "from sklearn import tree\r\n",
    "from sklearn.linear_model import LogisticRegression\r\n",
    "\r\n",
    "\r\n",
    "gbc = GradientBoostingClassifier(n_estimators=100, learning_rate=1.0, max_depth=1, random_state=0)\r\n",
    "\r\n",
    "gnb = GaussianNB()\r\n",
    "\r\n",
    "dtc = tree.DecisionTreeClassifier()\r\n",
    "\r\n",
    "lr = LogisticRegression()\r\n",
    "\r\n",
    "models = {'lr': lr, 'dtc': dtc, 'gnb': gnb, 'gbc': gbc}\r\n"
   ],
   "outputs": [],
   "metadata": {}
  },
  {
   "cell_type": "code",
   "execution_count": 27,
   "source": [
    "# Just use this instead of the method above...\r\n",
    "\r\n",
    "from sklearn.model_selection import cross_val_score\r\n",
    "\r\n",
    "cv_accs_train = dict()\r\n",
    "cv_accs_test = dict()\r\n",
    "\r\n",
    "for model in models.keys():\r\n",
    "        print(model)\r\n",
    "        results = cross_val_score(models[model], X, y, cv=kf)\r\n",
    "        cv_accs_test[model] = results\r\n",
    "        print(model, cv_accs_test[model])\r\n"
   ],
   "outputs": [
    {
     "output_type": "stream",
     "name": "stdout",
     "text": [
      "lr\n",
      "lr [0.97833723 0.99963883 0.99813096]\n",
      "dtc\n",
      "dtc [0.99953604 0.99979584 0.99919609]\n",
      "gnb\n",
      "gnb [0.99869488 0.99241114 0.99257428]\n",
      "gbc\n",
      "gbc [0.99902257 0.99592621 0.99775093]\n"
     ]
    }
   ],
   "metadata": {}
  },
  {
   "cell_type": "code",
   "execution_count": 46,
   "source": [
    "# Classifier Test Accuracies\r\n",
    "\r\n",
    "cv_accs_df = pd.DataFrame(cv_accs_test)\r\n",
    "cv_accs_df = cv_accs_df.transpose().reset_index()\r\n",
    "cv_accs_df = pd.melt(cv_accs_df, id_vars='index', value_vars=[0,1,2])\r\n",
    "cv_accs_df = cv_accs_df.rename(columns={'index': 'Classifier', 'variable': 'K-Fold', 'value': 'Test Accuracy'})\r\n",
    "\r\n",
    "ax = sns.barplot(x='Classifier', y='Test Accuracy', hue='K-Fold', data=cv_accs_df)\r\n",
    "ax.legend(bbox_to_anchor=(1.05, 1), loc=2, borderaxespad=0.)\r\n",
    "ax.set_title('Classifier Test Accuracies per K-Fold ')\r\n",
    "pd.DataFrame(cv_accs_test)"
   ],
   "outputs": [
    {
     "output_type": "execute_result",
     "data": {
      "text/plain": [
       "         lr       dtc       gnb       gbc\n",
       "0  0.978337  0.999536  0.998695  0.999023\n",
       "1  0.999639  0.999796  0.992411  0.995926\n",
       "2  0.998131  0.999196  0.992574  0.997751"
      ],
      "text/html": [
       "<div>\n",
       "<style scoped>\n",
       "    .dataframe tbody tr th:only-of-type {\n",
       "        vertical-align: middle;\n",
       "    }\n",
       "\n",
       "    .dataframe tbody tr th {\n",
       "        vertical-align: top;\n",
       "    }\n",
       "\n",
       "    .dataframe thead th {\n",
       "        text-align: right;\n",
       "    }\n",
       "</style>\n",
       "<table border=\"1\" class=\"dataframe\">\n",
       "  <thead>\n",
       "    <tr style=\"text-align: right;\">\n",
       "      <th></th>\n",
       "      <th>lr</th>\n",
       "      <th>dtc</th>\n",
       "      <th>gnb</th>\n",
       "      <th>gbc</th>\n",
       "    </tr>\n",
       "  </thead>\n",
       "  <tbody>\n",
       "    <tr>\n",
       "      <th>0</th>\n",
       "      <td>0.978337</td>\n",
       "      <td>0.999536</td>\n",
       "      <td>0.998695</td>\n",
       "      <td>0.999023</td>\n",
       "    </tr>\n",
       "    <tr>\n",
       "      <th>1</th>\n",
       "      <td>0.999639</td>\n",
       "      <td>0.999796</td>\n",
       "      <td>0.992411</td>\n",
       "      <td>0.995926</td>\n",
       "    </tr>\n",
       "    <tr>\n",
       "      <th>2</th>\n",
       "      <td>0.998131</td>\n",
       "      <td>0.999196</td>\n",
       "      <td>0.992574</td>\n",
       "      <td>0.997751</td>\n",
       "    </tr>\n",
       "  </tbody>\n",
       "</table>\n",
       "</div>"
      ]
     },
     "metadata": {},
     "execution_count": 46
    },
    {
     "output_type": "display_data",
     "data": {
      "text/plain": [
       "<Figure size 432x288 with 1 Axes>"
      ],
      "image/png": "[encoded data removed]"
     },
     "metadata": {}
    }
   ],
   "metadata": {}
  },
  {
   "cell_type": "code",
   "execution_count": 53,
   "source": [
    "# Average Test Accuracies\r\n",
    "\r\n",
    "cv_accs_mean = cv_accs_df.groupby('Classifier').mean().reset_index()\r\n",
    "\r\n",
    "ax = sns.barplot(x='Classifier', y='Test Accuracy', data=cv_accs_mean)\r\n",
    "ax.set_title('Classifier Test Accuracy Means')\r\n"
   ],
   "outputs": [
    {
     "output_type": "execute_result",
     "data": {
      "text/plain": [
       "Text(0.5, 1.0, 'Classifier Test Accuracy Means')"
      ]
     },
     "metadata": {},
     "execution_count": 53
    },
    {
     "output_type": "display_data",
     "data": {
      "text/plain": [
       "<Figure size 432x288 with 1 Axes>"
      ],
      "image/png": "[encoded data removed]"
     },
     "metadata": {}
    }
   ],
   "metadata": {}
  },
  {
   "cell_type": "code",
   "execution_count": 54,
   "source": [
    "# Temporary split for hyper-parameter tuning\r\n",
    "from sklearn.model_selection import train_test_split\r\n",
    "\r\n",
    "X_train, X_test, y_train, y_test = train_test_split(X, y, test_size=0.25, random_state=42)"
   ],
   "outputs": [],
   "metadata": {}
  },
  {
   "cell_type": "code",
   "execution_count": 57,
   "source": [
    "# I was able to obtain a satisfactory accuracy rate for my model, however there may some issues. The dataset contains an extremely small amount of fraud transactions, thus it makes it difficult for the model to obtain a poor accuracy.\r\n",
    "# If I had the time, I would like to apply some methods of handling an imbalanced dataset. Such as different evaluation metrics and resampling.\r\n",
    "# I definitely could have also done a better job hyper-parameter tuning and model selection. It takes a long time to run each model, so the time-constraint made it difficult for me to tune the model.\r\n",
    "# Specifically the Gradient Boosting Classifier could have been tuned better. Unfortunately, it took too long to run GridSearch to find the best parameters, so I wasnt able to implement it.\r\n",
    "# I am comfortable with my visualizations as they are there to present the interesting and notable parts of this project. I would of liked to make more visualizations as well, but it also takes sometime to run.\r\n",
    "# The main cleaning that the dataset required was categorical encoding for the 'type' column. I decided to go with Label Encoding here for convenience, but I would definitely like to use One Hot Encoding in the future as it is more appropriate.\r\n",
    "# Label Encoding might hurt the model as there is not supposed to be a relationship between transaction types. \r\n",
    "# No imputation was necessary which made it easy. Columns that were identifiers or names were dropped as they are irrelevant.\r\n",
    "# The data wasnt shuffled as I felt that the hours passed feature was important to maintain. I kept this feature in mind when I used K-Fold Cross Validation to not split the data set recklessly.\r\n",
    "# Some more features could be removed to make it more efficient. The column 'amount' contains details that could be obtained from other columns, such as the oldbalanceOrig and newbalanceOrig.\r\n",
    "\r\n"
   ],
   "outputs": [],
   "metadata": {}
  },
  {
   "cell_type": "code",
   "execution_count": null,
   "source": [
    "# Gridsearch Cross Validation for Hyper-Parameter tuninng\r\n",
    "from sklearn.model_selection import GridSearchCV\r\n",
    "\r\n",
    "l_rates = [0.0001,0.001, 0.01, 0.1] #, 0.2, 0.3]\r\n",
    "n_ests = [100, 200, 300] #, 400, 500]\r\n",
    "\r\n",
    "params = {'learning_rate': l_rates, 'n_estimators':n_ests}\r\n"
   ],
   "outputs": [],
   "metadata": {}
  },
  {
   "cell_type": "code",
   "execution_count": null,
   "source": [],
   "outputs": [],
   "metadata": {}
  }
 ],
 "metadata": {
  "interpreter": {
   "hash": "891857d0ce93689baa0da29f21989c5bf1ccfa0d460985bce4e27d01ae604326"
  },
  "kernelspec": {
   "name": "python3",
   "display_name": "Python 3.9.5 64-bit"
  },
  "language_info": {
   "codemirror_mode": {
    "name": "ipython",
    "version": 3
   },
   "file_extension": ".py",
   "mimetype": "text/x-python",
   "name": "python",
   "nbconvert_exporter": "python",
   "pygments_lexer": "ipython3",
   "version": "3.9.5"
  },
  "orig_nbformat": 4
 },
 "nbformat": 4,
 "nbformat_minor": 2
}